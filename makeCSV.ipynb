{
 "cells": [
  {
   "cell_type": "code",
   "execution_count": null,
   "metadata": {},
   "outputs": [],
   "source": [
    "import pathlib\n",
    "import os\n",
    "from IPython.display import clear_output\n",
    "import pandas as pd"
   ]
  },
  {
   "cell_type": "code",
   "execution_count": 25,
   "metadata": {},
   "outputs": [],
   "source": [
    "def makeCSV(path, label, tag):\n",
    "    path = pathlib.PosixPath(path)\n",
    "    generator = path.glob(\"./*\")\n",
    "    nullList = list()\n",
    "    fileList = list()\n",
    "\n",
    "    i = 0\n",
    "    while True:\n",
    "        i += 1\n",
    "        try:\n",
    "            filepath = generator.__next__()\n",
    "            if os.stat(filepath).st_size == 0:\n",
    "                nullList.append(filepath)\n",
    "            else:\n",
    "                fileList.append(filepath)\n",
    "        except:\n",
    "            break\n",
    "        if i % 1000 == 0:\n",
    "            clear_output()\n",
    "            print(i)\n",
    "    csv = pd.DataFrame({\n",
    "        'filepath': fileList,\n",
    "        'label': label,\n",
    "        'tag': tag\n",
    "    })\n",
    "    \n",
    "    return csv, nullList\n",
    "\n",
    "    \n"
   ]
  },
  {
   "cell_type": "code",
   "execution_count": 34,
   "metadata": {},
   "outputs": [],
   "source": [
    "csvList = list(pathlib.PosixPath(\"/Users/jm/Desktop/kusw_project2/imageCSV\").glob(\"./*\"))"
   ]
  },
  {
   "cell_type": "code",
   "execution_count": 49,
   "metadata": {},
   "outputs": [],
   "source": [
    "tempDF = pd.DataFrame()\n",
    "for csv in csvList:\n",
    "    df = pd.read_csv(csv)\n",
    "    tempDF = pd.concat([tempDF, df], axis=0)"
   ]
  },
  {
   "cell_type": "code",
   "execution_count": 59,
   "metadata": {},
   "outputs": [],
   "source": [
    "tempDF.drop(labels=\"Unnamed: 0\", axis=1, inplace=True)"
   ]
  },
  {
   "cell_type": "code",
   "execution_count": 61,
   "metadata": {},
   "outputs": [],
   "source": [
    "tempDF.to_csv(\"/Users/jm/Desktop/kusw_project2/imageCSV/total.csv\")"
   ]
  },
  {
   "cell_type": "code",
   "execution_count": 62,
   "metadata": {},
   "outputs": [],
   "source": [
    "from sklearn.model_selection import train_test_split"
   ]
  },
  {
   "cell_type": "code",
   "execution_count": 69,
   "metadata": {},
   "outputs": [],
   "source": [
    "train, test = train_test_split(tempDF, test_size=0.2, random_state=114)"
   ]
  },
  {
   "cell_type": "code",
   "execution_count": 70,
   "metadata": {},
   "outputs": [],
   "source": [
    "train, val = train_test_split(train, test_size=0.125, random_state=114)"
   ]
  },
  {
   "cell_type": "code",
   "execution_count": 81,
   "metadata": {},
   "outputs": [],
   "source": [
    "train.to_csv(\"/Users/jm/Desktop/kusw_project2/imageCSV/train.csv\")\n",
    "test.to_csv(\"/Users/jm/Desktop/kusw_project2/imageCSV/test.csv\")\n",
    "val.to_csv(\"/Users/jm/Desktop/kusw_project2/imageCSV/val.csv\")"
   ]
  }
 ],
 "metadata": {
  "kernelspec": {
   "display_name": "mytorch",
   "language": "python",
   "name": "python3"
  },
  "language_info": {
   "codemirror_mode": {
    "name": "ipython",
    "version": 3
   },
   "file_extension": ".py",
   "mimetype": "text/x-python",
   "name": "python",
   "nbconvert_exporter": "python",
   "pygments_lexer": "ipython3",
   "version": "3.9.12 (main, Apr  5 2022, 01:52:34) \n[Clang 12.0.0 ]"
  },
  "orig_nbformat": 4,
  "vscode": {
   "interpreter": {
    "hash": "083876b6ffcd5ef2289a49d86e086cc585e7b9dbeff261a095e501d87f708cfd"
   }
  }
 },
 "nbformat": 4,
 "nbformat_minor": 2
}

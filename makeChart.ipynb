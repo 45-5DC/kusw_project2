{
 "cells": [
  {
   "cell_type": "code",
   "execution_count": 36,
   "metadata": {},
   "outputs": [],
   "source": [
    "import pandas as pd\n",
    "import pathlib\n",
    "import numpy as np"
   ]
  },
  {
   "cell_type": "code",
   "execution_count": 37,
   "metadata": {},
   "outputs": [],
   "source": [
    "csvList = list(pathlib.PosixPath('./imageCSV/').glob(\"./*.csv\"))"
   ]
  },
  {
   "cell_type": "code",
   "execution_count": 50,
   "metadata": {},
   "outputs": [
    {
     "data": {
      "text/plain": [
       "PosixPath('imageCSV/train.csv')"
      ]
     },
     "execution_count": 50,
     "metadata": {},
     "output_type": "execute_result"
    }
   ],
   "source": [
    "csvList.pop(6)"
   ]
  },
  {
   "cell_type": "code",
   "execution_count": 51,
   "metadata": {},
   "outputs": [
    {
     "data": {
      "text/plain": [
       "[PosixPath('imageCSV/styleGAN2.csv'),\n",
       " PosixPath('imageCSV/styleGANone.csv'),\n",
       " PosixPath('imageCSV/styleGAN1.csv'),\n",
       " PosixPath('imageCSV/LFW.csv'),\n",
       " PosixPath('imageCSV/styleGANtwo.csv'),\n",
       " PosixPath('imageCSV/FFHQ.csv'),\n",
       " PosixPath('imageCSV/CelebA_StarGAN.csv'),\n",
       " PosixPath('imageCSV/CelebA_sample17767.csv')]"
      ]
     },
     "execution_count": 51,
     "metadata": {},
     "output_type": "execute_result"
    }
   ],
   "source": [
    "csvList"
   ]
  },
  {
   "cell_type": "code",
   "execution_count": 34,
   "metadata": {},
   "outputs": [],
   "source": [
    "CelebA_sample17767 = df[df.tag == 'CelebA'].sample(17767, replace=False)"
   ]
  },
  {
   "cell_type": "code",
   "execution_count": 35,
   "metadata": {},
   "outputs": [],
   "source": [
    "CelebA_sample17767.to_csv(\"./imageCSV/CelebA_sample17767.csv\")"
   ]
  },
  {
   "cell_type": "code",
   "execution_count": 52,
   "metadata": {},
   "outputs": [
    {
     "data": {
      "text/html": [
       "<div>\n",
       "<style scoped>\n",
       "    .dataframe tbody tr th:only-of-type {\n",
       "        vertical-align: middle;\n",
       "    }\n",
       "\n",
       "    .dataframe tbody tr th {\n",
       "        vertical-align: top;\n",
       "    }\n",
       "\n",
       "    .dataframe thead th {\n",
       "        text-align: right;\n",
       "    }\n",
       "</style>\n",
       "<table border=\"1\" class=\"dataframe\">\n",
       "  <thead>\n",
       "    <tr style=\"text-align: right;\">\n",
       "      <th></th>\n",
       "      <th>filepath</th>\n",
       "      <th>label</th>\n",
       "      <th>tag</th>\n",
       "    </tr>\n",
       "  </thead>\n",
       "  <tbody>\n",
       "    <tr>\n",
       "      <th>0</th>\n",
       "      <td>/content/drive/MyDrive/dataset/styleGAN1/03814...</td>\n",
       "      <td>1</td>\n",
       "      <td>styleGAN1</td>\n",
       "    </tr>\n",
       "    <tr>\n",
       "      <th>1</th>\n",
       "      <td>/content/drive/MyDrive/dataset/styleGAN1/03727...</td>\n",
       "      <td>1</td>\n",
       "      <td>styleGAN1</td>\n",
       "    </tr>\n",
       "    <tr>\n",
       "      <th>2</th>\n",
       "      <td>/content/drive/MyDrive/dataset/styleGAN1/03160...</td>\n",
       "      <td>1</td>\n",
       "      <td>styleGAN1</td>\n",
       "    </tr>\n",
       "    <tr>\n",
       "      <th>3</th>\n",
       "      <td>/content/drive/MyDrive/dataset/styleGAN1/03546...</td>\n",
       "      <td>1</td>\n",
       "      <td>styleGAN1</td>\n",
       "    </tr>\n",
       "    <tr>\n",
       "      <th>4</th>\n",
       "      <td>/content/drive/MyDrive/dataset/styleGAN1/03230...</td>\n",
       "      <td>1</td>\n",
       "      <td>styleGAN1</td>\n",
       "    </tr>\n",
       "    <tr>\n",
       "      <th>...</th>\n",
       "      <td>...</td>\n",
       "      <td>...</td>\n",
       "      <td>...</td>\n",
       "    </tr>\n",
       "    <tr>\n",
       "      <th>29107</th>\n",
       "      <td>/content/drive/MyDrive/dataset/CelebA/CelebA1/...</td>\n",
       "      <td>0</td>\n",
       "      <td>CelebA</td>\n",
       "    </tr>\n",
       "    <tr>\n",
       "      <th>17363</th>\n",
       "      <td>/content/drive/MyDrive/dataset/CelebA/CelebA1/...</td>\n",
       "      <td>0</td>\n",
       "      <td>CelebA</td>\n",
       "    </tr>\n",
       "    <tr>\n",
       "      <th>14957</th>\n",
       "      <td>/content/drive/MyDrive/dataset/CelebA/CelebA1/...</td>\n",
       "      <td>0</td>\n",
       "      <td>CelebA</td>\n",
       "    </tr>\n",
       "    <tr>\n",
       "      <th>28377</th>\n",
       "      <td>/content/drive/MyDrive/dataset/CelebA/CelebA1/...</td>\n",
       "      <td>0</td>\n",
       "      <td>CelebA</td>\n",
       "    </tr>\n",
       "    <tr>\n",
       "      <th>44018</th>\n",
       "      <td>/content/drive/MyDrive/dataset/CelebA/CelebA1/...</td>\n",
       "      <td>0</td>\n",
       "      <td>CelebA</td>\n",
       "    </tr>\n",
       "  </tbody>\n",
       "</table>\n",
       "<p>132000 rows × 3 columns</p>\n",
       "</div>"
      ],
      "text/plain": [
       "                                                filepath  label        tag\n",
       "0      /content/drive/MyDrive/dataset/styleGAN1/03814...      1  styleGAN1\n",
       "1      /content/drive/MyDrive/dataset/styleGAN1/03727...      1  styleGAN1\n",
       "2      /content/drive/MyDrive/dataset/styleGAN1/03160...      1  styleGAN1\n",
       "3      /content/drive/MyDrive/dataset/styleGAN1/03546...      1  styleGAN1\n",
       "4      /content/drive/MyDrive/dataset/styleGAN1/03230...      1  styleGAN1\n",
       "...                                                  ...    ...        ...\n",
       "29107  /content/drive/MyDrive/dataset/CelebA/CelebA1/...      0     CelebA\n",
       "17363  /content/drive/MyDrive/dataset/CelebA/CelebA1/...      0     CelebA\n",
       "14957  /content/drive/MyDrive/dataset/CelebA/CelebA1/...      0     CelebA\n",
       "28377  /content/drive/MyDrive/dataset/CelebA/CelebA1/...      0     CelebA\n",
       "44018  /content/drive/MyDrive/dataset/CelebA/CelebA1/...      0     CelebA\n",
       "\n",
       "[132000 rows x 3 columns]"
      ]
     },
     "execution_count": 52,
     "metadata": {},
     "output_type": "execute_result"
    }
   ],
   "source": [
    "df = pd.DataFrame()\n",
    "for csv in csvList:\n",
    "    temp = pd.read_csv(csv, index_col=0)\n",
    "    df = pd.concat([df, temp], axis=0)\n",
    "df"
   ]
  },
  {
   "cell_type": "code",
   "execution_count": 53,
   "metadata": {},
   "outputs": [
    {
     "data": {
      "text/plain": [
       "1    66000\n",
       "0    66000\n",
       "Name: label, dtype: int64"
      ]
     },
     "execution_count": 53,
     "metadata": {},
     "output_type": "execute_result"
    }
   ],
   "source": [
    "df.label.value_counts()"
   ]
  },
  {
   "cell_type": "code",
   "execution_count": 14,
   "metadata": {},
   "outputs": [],
   "source": [
    "df.to_csv(\"./imageCSV/total.csv\")"
   ]
  },
  {
   "cell_type": "code",
   "execution_count": 57,
   "metadata": {},
   "outputs": [
    {
     "data": {
      "text/plain": [
       ".png    130696\n",
       ".jpg     13233\n",
       "dtype: int64"
      ]
     },
     "execution_count": 57,
     "metadata": {},
     "output_type": "execute_result"
    }
   ],
   "source": [
    "df.apply(func=lambda x: x.filepath, axis=1).apply(func=lambda x: x[-4:]).value_counts()"
   ]
  },
  {
   "cell_type": "code",
   "execution_count": 68,
   "metadata": {},
   "outputs": [],
   "source": [
    "df.to_csv(\"./imageCSV/total.csv\")"
   ]
  },
  {
   "cell_type": "code",
   "execution_count": 15,
   "metadata": {},
   "outputs": [],
   "source": [
    "from sklearn.model_selection import train_test_split"
   ]
  },
  {
   "cell_type": "code",
   "execution_count": 54,
   "metadata": {},
   "outputs": [],
   "source": [
    "train, test = train_test_split(df, test_size=.2, random_state=114)"
   ]
  },
  {
   "cell_type": "code",
   "execution_count": 55,
   "metadata": {},
   "outputs": [],
   "source": [
    "train, val = train_test_split(train, test_size=0.125, random_state=114)"
   ]
  },
  {
   "cell_type": "code",
   "execution_count": 56,
   "metadata": {},
   "outputs": [],
   "source": [
    "train.to_csv(\"./imageCSV/train_truncated.csv\")\n",
    "val.to_csv(\"./imageCSV/val_truncated.csv\")\n",
    "test.to_csv(\"./imageCSV/test_truncated.csv\")"
   ]
  },
  {
   "cell_type": "code",
   "execution_count": 57,
   "metadata": {},
   "outputs": [
    {
     "data": {
      "text/plain": [
       "styleGAN1         40000\n",
       "FFHQ              35000\n",
       "styleGAN2         20000\n",
       "CelebA            17767\n",
       "LFW               13233\n",
       "CelebA_StarGAN     6000\n",
       "Name: tag, dtype: int64"
      ]
     },
     "execution_count": 57,
     "metadata": {},
     "output_type": "execute_result"
    }
   ],
   "source": [
    "df.tag.value_counts()"
   ]
  },
  {
   "cell_type": "code",
   "execution_count": 58,
   "metadata": {},
   "outputs": [],
   "source": [
    "total = pd.read_csv(\"/Users/jm/Desktop/project3/imageCSV/total.csv\", index_col=0)"
   ]
  },
  {
   "cell_type": "code",
   "execution_count": 59,
   "metadata": {},
   "outputs": [
    {
     "data": {
      "text/plain": [
       "164233"
      ]
     },
     "execution_count": 59,
     "metadata": {},
     "output_type": "execute_result"
    }
   ],
   "source": [
    "total.__len__()"
   ]
  }
 ],
 "metadata": {
  "kernelspec": {
   "display_name": "mytorch",
   "language": "python",
   "name": "python3"
  },
  "language_info": {
   "codemirror_mode": {
    "name": "ipython",
    "version": 3
   },
   "file_extension": ".py",
   "mimetype": "text/x-python",
   "name": "python",
   "nbconvert_exporter": "python",
   "pygments_lexer": "ipython3",
   "version": "3.9.12"
  },
  "orig_nbformat": 4,
  "vscode": {
   "interpreter": {
    "hash": "083876b6ffcd5ef2289a49d86e086cc585e7b9dbeff261a095e501d87f708cfd"
   }
  }
 },
 "nbformat": 4,
 "nbformat_minor": 2
}

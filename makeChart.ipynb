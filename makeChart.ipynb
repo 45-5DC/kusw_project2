{
 "cells": [
  {
   "cell_type": "code",
   "execution_count": 48,
   "metadata": {},
   "outputs": [],
   "source": [
    "import pandas as pd\n",
    "import pathlib\n",
    "import numpy as np"
   ]
  },
  {
   "cell_type": "code",
   "execution_count": 45,
   "metadata": {},
   "outputs": [],
   "source": [
    "csvList = list(pathlib.PosixPath('./imageCSV/').glob(\"./*.csv\"))"
   ]
  },
  {
   "cell_type": "code",
   "execution_count": 46,
   "metadata": {},
   "outputs": [
    {
     "data": {
      "text/plain": [
       "[PosixPath('imageCSV/FFHQ_StyleGAN3XL.csv'),\n",
       " PosixPath('imageCSV/LFW.csv'),\n",
       " PosixPath('imageCSV/CelebA2.csv'),\n",
       " PosixPath('imageCSV/FFHQ.csv'),\n",
       " PosixPath('imageCSV/CelebA_StarGAN.csv')]"
      ]
     },
     "execution_count": 46,
     "metadata": {},
     "output_type": "execute_result"
    }
   ],
   "source": [
    "csvList"
   ]
  },
  {
   "cell_type": "code",
   "execution_count": 50,
   "metadata": {},
   "outputs": [
    {
     "data": {
      "text/html": [
       "<div>\n",
       "<style scoped>\n",
       "    .dataframe tbody tr th:only-of-type {\n",
       "        vertical-align: middle;\n",
       "    }\n",
       "\n",
       "    .dataframe tbody tr th {\n",
       "        vertical-align: top;\n",
       "    }\n",
       "\n",
       "    .dataframe thead th {\n",
       "        text-align: right;\n",
       "    }\n",
       "</style>\n",
       "<table border=\"1\" class=\"dataframe\">\n",
       "  <thead>\n",
       "    <tr style=\"text-align: right;\">\n",
       "      <th></th>\n",
       "      <th>filepath</th>\n",
       "      <th>label</th>\n",
       "      <th>tag</th>\n",
       "    </tr>\n",
       "  </thead>\n",
       "  <tbody>\n",
       "    <tr>\n",
       "      <th>0</th>\n",
       "      <td>/content/drive/MyDrive/data/ffhq/fake/seed1065...</td>\n",
       "      <td>1</td>\n",
       "      <td>FFHQ_StyleGAN3XL</td>\n",
       "    </tr>\n",
       "    <tr>\n",
       "      <th>1</th>\n",
       "      <td>/content/drive/MyDrive/data/ffhq/fake/seed1065...</td>\n",
       "      <td>1</td>\n",
       "      <td>FFHQ_StyleGAN3XL</td>\n",
       "    </tr>\n",
       "    <tr>\n",
       "      <th>2</th>\n",
       "      <td>/content/drive/MyDrive/data/ffhq/fake/seed1065...</td>\n",
       "      <td>1</td>\n",
       "      <td>FFHQ_StyleGAN3XL</td>\n",
       "    </tr>\n",
       "    <tr>\n",
       "      <th>3</th>\n",
       "      <td>/content/drive/MyDrive/data/ffhq/fake/seed1065...</td>\n",
       "      <td>1</td>\n",
       "      <td>FFHQ_StyleGAN3XL</td>\n",
       "    </tr>\n",
       "    <tr>\n",
       "      <th>4</th>\n",
       "      <td>/content/drive/MyDrive/data/ffhq/fake/seed1065...</td>\n",
       "      <td>1</td>\n",
       "      <td>FFHQ_StyleGAN3XL</td>\n",
       "    </tr>\n",
       "    <tr>\n",
       "      <th>...</th>\n",
       "      <td>...</td>\n",
       "      <td>...</td>\n",
       "      <td>...</td>\n",
       "    </tr>\n",
       "    <tr>\n",
       "      <th>5995</th>\n",
       "      <td>/content/drive/MyDrive/dataset/CelebA_starGAN/...</td>\n",
       "      <td>1</td>\n",
       "      <td>CelebA_StarGAN</td>\n",
       "    </tr>\n",
       "    <tr>\n",
       "      <th>5996</th>\n",
       "      <td>/content/drive/MyDrive/dataset/CelebA_starGAN/...</td>\n",
       "      <td>1</td>\n",
       "      <td>CelebA_StarGAN</td>\n",
       "    </tr>\n",
       "    <tr>\n",
       "      <th>5997</th>\n",
       "      <td>/content/drive/MyDrive/dataset/CelebA_starGAN/...</td>\n",
       "      <td>1</td>\n",
       "      <td>CelebA_StarGAN</td>\n",
       "    </tr>\n",
       "    <tr>\n",
       "      <th>5998</th>\n",
       "      <td>/content/drive/MyDrive/dataset/CelebA_starGAN/...</td>\n",
       "      <td>1</td>\n",
       "      <td>CelebA_StarGAN</td>\n",
       "    </tr>\n",
       "    <tr>\n",
       "      <th>5999</th>\n",
       "      <td>/content/drive/MyDrive/dataset/CelebA_starGAN/...</td>\n",
       "      <td>1</td>\n",
       "      <td>CelebA_StarGAN</td>\n",
       "    </tr>\n",
       "  </tbody>\n",
       "</table>\n",
       "<p>143929 rows × 3 columns</p>\n",
       "</div>"
      ],
      "text/plain": [
       "                                               filepath  label  \\\n",
       "0     /content/drive/MyDrive/data/ffhq/fake/seed1065...      1   \n",
       "1     /content/drive/MyDrive/data/ffhq/fake/seed1065...      1   \n",
       "2     /content/drive/MyDrive/data/ffhq/fake/seed1065...      1   \n",
       "3     /content/drive/MyDrive/data/ffhq/fake/seed1065...      1   \n",
       "4     /content/drive/MyDrive/data/ffhq/fake/seed1065...      1   \n",
       "...                                                 ...    ...   \n",
       "5995  /content/drive/MyDrive/dataset/CelebA_starGAN/...      1   \n",
       "5996  /content/drive/MyDrive/dataset/CelebA_starGAN/...      1   \n",
       "5997  /content/drive/MyDrive/dataset/CelebA_starGAN/...      1   \n",
       "5998  /content/drive/MyDrive/dataset/CelebA_starGAN/...      1   \n",
       "5999  /content/drive/MyDrive/dataset/CelebA_starGAN/...      1   \n",
       "\n",
       "                   tag  \n",
       "0     FFHQ_StyleGAN3XL  \n",
       "1     FFHQ_StyleGAN3XL  \n",
       "2     FFHQ_StyleGAN3XL  \n",
       "3     FFHQ_StyleGAN3XL  \n",
       "4     FFHQ_StyleGAN3XL  \n",
       "...                ...  \n",
       "5995    CelebA_StarGAN  \n",
       "5996    CelebA_StarGAN  \n",
       "5997    CelebA_StarGAN  \n",
       "5998    CelebA_StarGAN  \n",
       "5999    CelebA_StarGAN  \n",
       "\n",
       "[143929 rows x 3 columns]"
      ]
     },
     "execution_count": 50,
     "metadata": {},
     "output_type": "execute_result"
    }
   ],
   "source": [
    "df = pd.DataFrame()\n",
    "for csv in csvList:\n",
    "    temp = pd.read_csv(csv, index_col=0)\n",
    "    df = pd.concat([df, temp], axis=0)\n",
    "df"
   ]
  },
  {
   "cell_type": "code",
   "execution_count": 51,
   "metadata": {},
   "outputs": [],
   "source": [
    "df.to_csv(\"./imageCSV/total.csv\")"
   ]
  },
  {
   "cell_type": "code",
   "execution_count": 57,
   "metadata": {},
   "outputs": [
    {
     "data": {
      "text/plain": [
       ".png    130696\n",
       ".jpg     13233\n",
       "dtype: int64"
      ]
     },
     "execution_count": 57,
     "metadata": {},
     "output_type": "execute_result"
    }
   ],
   "source": [
    "df.apply(func=lambda x: x.filepath, axis=1).apply(func=lambda x: x[-4:]).value_counts()"
   ]
  },
  {
   "cell_type": "code",
   "execution_count": 60,
   "metadata": {},
   "outputs": [],
   "source": [
    "df = df.convert_dtypes()"
   ]
  },
  {
   "cell_type": "code",
   "execution_count": 65,
   "metadata": {},
   "outputs": [],
   "source": [
    "df.label = df.label.astype(dtype=\"category\")"
   ]
  },
  {
   "cell_type": "code",
   "execution_count": 68,
   "metadata": {},
   "outputs": [],
   "source": [
    "df.to_csv(\"./imageCSV/total.csv\")"
   ]
  },
  {
   "cell_type": "code",
   "execution_count": 69,
   "metadata": {},
   "outputs": [],
   "source": [
    "from sklearn.model_selection import train_test_split"
   ]
  },
  {
   "cell_type": "code",
   "execution_count": 82,
   "metadata": {},
   "outputs": [],
   "source": [
    "train, test = train_test_split(df, test_size=.2, random_state=114)"
   ]
  },
  {
   "cell_type": "code",
   "execution_count": 83,
   "metadata": {},
   "outputs": [],
   "source": [
    "train, val = train_test_split(train, test_size=0.125, random_state=114)"
   ]
  },
  {
   "cell_type": "code",
   "execution_count": 80,
   "metadata": {},
   "outputs": [],
   "source": [
    "train.reset_index(inplace=True)"
   ]
  },
  {
   "cell_type": "code",
   "execution_count": 88,
   "metadata": {},
   "outputs": [],
   "source": [
    "train.to_csv(\"./imageCSV/train.csv\")"
   ]
  },
  {
   "cell_type": "code",
   "execution_count": 95,
   "metadata": {},
   "outputs": [],
   "source": [
    "train = pd.read_csv(\"./imageCSV/train.csv\", index_col=0)\n",
    "# train = pd.read_csv(\"./imageCSV/train.csv\")"
   ]
  },
  {
   "cell_type": "code",
   "execution_count": 96,
   "metadata": {},
   "outputs": [
    {
     "data": {
      "text/html": [
       "<div>\n",
       "<style scoped>\n",
       "    .dataframe tbody tr th:only-of-type {\n",
       "        vertical-align: middle;\n",
       "    }\n",
       "\n",
       "    .dataframe tbody tr th {\n",
       "        vertical-align: top;\n",
       "    }\n",
       "\n",
       "    .dataframe thead th {\n",
       "        text-align: right;\n",
       "    }\n",
       "</style>\n",
       "<table border=\"1\" class=\"dataframe\">\n",
       "  <thead>\n",
       "    <tr style=\"text-align: right;\">\n",
       "      <th></th>\n",
       "      <th>filepath</th>\n",
       "      <th>label</th>\n",
       "      <th>tag</th>\n",
       "    </tr>\n",
       "  </thead>\n",
       "  <tbody>\n",
       "    <tr>\n",
       "      <th>19301</th>\n",
       "      <td>/content/drive/MyDrive/dataset/CelebA/CelebA1/...</td>\n",
       "      <td>0</td>\n",
       "      <td>CelebA</td>\n",
       "    </tr>\n",
       "    <tr>\n",
       "      <th>5658</th>\n",
       "      <td>/content/drive/MyDrive/dataset/CelebA_starGAN/...</td>\n",
       "      <td>1</td>\n",
       "      <td>CelebA_StarGAN</td>\n",
       "    </tr>\n",
       "    <tr>\n",
       "      <th>9896</th>\n",
       "      <td>/content/drive/MyDrive/dataset/LFW/LFW_3547.jpg</td>\n",
       "      <td>0</td>\n",
       "      <td>LFW</td>\n",
       "    </tr>\n",
       "    <tr>\n",
       "      <th>28973</th>\n",
       "      <td>/content/drive/MyDrive/data/ffhq/real/07283.png</td>\n",
       "      <td>0</td>\n",
       "      <td>FFHQ</td>\n",
       "    </tr>\n",
       "    <tr>\n",
       "      <th>17339</th>\n",
       "      <td>/content/drive/MyDrive/data/ffhq/real/17670.png</td>\n",
       "      <td>0</td>\n",
       "      <td>FFHQ</td>\n",
       "    </tr>\n",
       "    <tr>\n",
       "      <th>...</th>\n",
       "      <td>...</td>\n",
       "      <td>...</td>\n",
       "      <td>...</td>\n",
       "    </tr>\n",
       "    <tr>\n",
       "      <th>14017</th>\n",
       "      <td>/content/drive/MyDrive/data/ffhq/real/20988.png</td>\n",
       "      <td>0</td>\n",
       "      <td>FFHQ</td>\n",
       "    </tr>\n",
       "    <tr>\n",
       "      <th>94</th>\n",
       "      <td>/content/drive/MyDrive/data/ffhq/real/34906.png</td>\n",
       "      <td>0</td>\n",
       "      <td>FFHQ</td>\n",
       "    </tr>\n",
       "    <tr>\n",
       "      <th>176</th>\n",
       "      <td>/content/drive/MyDrive/dataset/LFW/LFW_11726.jpg</td>\n",
       "      <td>0</td>\n",
       "      <td>LFW</td>\n",
       "    </tr>\n",
       "    <tr>\n",
       "      <th>8730</th>\n",
       "      <td>/content/drive/MyDrive/data/ffhq/real/26266.png</td>\n",
       "      <td>0</td>\n",
       "      <td>FFHQ</td>\n",
       "    </tr>\n",
       "    <tr>\n",
       "      <th>33529</th>\n",
       "      <td>/content/drive/MyDrive/dataset/CelebA/CelebA1/...</td>\n",
       "      <td>0</td>\n",
       "      <td>CelebA</td>\n",
       "    </tr>\n",
       "  </tbody>\n",
       "</table>\n",
       "<p>100750 rows × 3 columns</p>\n",
       "</div>"
      ],
      "text/plain": [
       "                                                filepath  label  \\\n",
       "19301  /content/drive/MyDrive/dataset/CelebA/CelebA1/...      0   \n",
       "5658   /content/drive/MyDrive/dataset/CelebA_starGAN/...      1   \n",
       "9896     /content/drive/MyDrive/dataset/LFW/LFW_3547.jpg      0   \n",
       "28973    /content/drive/MyDrive/data/ffhq/real/07283.png      0   \n",
       "17339    /content/drive/MyDrive/data/ffhq/real/17670.png      0   \n",
       "...                                                  ...    ...   \n",
       "14017    /content/drive/MyDrive/data/ffhq/real/20988.png      0   \n",
       "94       /content/drive/MyDrive/data/ffhq/real/34906.png      0   \n",
       "176     /content/drive/MyDrive/dataset/LFW/LFW_11726.jpg      0   \n",
       "8730     /content/drive/MyDrive/data/ffhq/real/26266.png      0   \n",
       "33529  /content/drive/MyDrive/dataset/CelebA/CelebA1/...      0   \n",
       "\n",
       "                  tag  \n",
       "19301          CelebA  \n",
       "5658   CelebA_StarGAN  \n",
       "9896              LFW  \n",
       "28973            FFHQ  \n",
       "17339            FFHQ  \n",
       "...               ...  \n",
       "14017            FFHQ  \n",
       "94               FFHQ  \n",
       "176               LFW  \n",
       "8730             FFHQ  \n",
       "33529          CelebA  \n",
       "\n",
       "[100750 rows x 3 columns]"
      ]
     },
     "execution_count": 96,
     "metadata": {},
     "output_type": "execute_result"
    }
   ],
   "source": [
    "train"
   ]
  },
  {
   "cell_type": "code",
   "execution_count": null,
   "metadata": {},
   "outputs": [],
   "source": []
  }
 ],
 "metadata": {
  "kernelspec": {
   "display_name": "mytorch",
   "language": "python",
   "name": "python3"
  },
  "language_info": {
   "codemirror_mode": {
    "name": "ipython",
    "version": 3
   },
   "file_extension": ".py",
   "mimetype": "text/x-python",
   "name": "python",
   "nbconvert_exporter": "python",
   "pygments_lexer": "ipython3",
   "version": "3.9.12"
  },
  "orig_nbformat": 4,
  "vscode": {
   "interpreter": {
    "hash": "083876b6ffcd5ef2289a49d86e086cc585e7b9dbeff261a095e501d87f708cfd"
   }
  }
 },
 "nbformat": 4,
 "nbformat_minor": 2
}

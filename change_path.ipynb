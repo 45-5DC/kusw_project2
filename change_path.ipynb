{
 "cells": [
  {
   "cell_type": "code",
   "execution_count": 24,
   "metadata": {},
   "outputs": [],
   "source": [
    "import pandas as pd"
   ]
  },
  {
   "cell_type": "code",
   "execution_count": 25,
   "metadata": {},
   "outputs": [
    {
     "data": {
      "text/plain": [
       "['C:', 'Users', 'Public', 'project3', 'image']"
      ]
     },
     "execution_count": 25,
     "metadata": {},
     "output_type": "execute_result"
    }
   ],
   "source": [
    "root_sh = \"C:\\\\Users\\\\Public\\\\project3\\\\image\\\\\"\n",
    "root_sy = \"D:\\\\project3Image\\\\\"\n",
    "root = root.split(\"\\\\\")[:-1]\n",
    "root"
   ]
  },
  {
   "cell_type": "code",
   "execution_count": 3,
   "metadata": {},
   "outputs": [],
   "source": [
    "train_tc = pd.read_csv(\"/Users/jm/Desktop/project3/imageCSV/train_truncated.csv\", index_col=0)\n",
    "val_tc = pd.read_csv(\"/Users/jm/Desktop/project3/imageCSV/val_truncated.csv\", index_col=0)\n",
    "test_tc = pd.read_csv(\"/Users/jm/Desktop/project3/imageCSV/test_truncated.csv\", index_col=0)"
   ]
  },
  {
   "cell_type": "code",
   "execution_count": 4,
   "metadata": {},
   "outputs": [],
   "source": [
    "train_tc.filepath = train_tc.filepath.apply(func=lambda x: \"\\\\\".join(root + x.split(\"/\")[5:]))\n",
    "val_tc.filepath = val_tc.filepath.apply(func=lambda x: \"\\\\\".join(root + x.split(\"/\")[5:]))\n",
    "test_tc.filepath = test_tc.filepath.apply(func=lambda x: \"\\\\\".join(root + x.split(\"/\")[5:]))"
   ]
  },
  {
   "cell_type": "code",
   "execution_count": 8,
   "metadata": {},
   "outputs": [],
   "source": [
    "train_tc.to_csv(\"./imageCSV/train_tc_sh.csv\")\n",
    "val_tc.to_csv(\"./imageCSV/val_tc_sh.csv\")\n",
    "test_tc.to_csv(\"./imageCSV/test_tc_sh.csv\")"
   ]
  }
 ],
 "metadata": {
  "kernelspec": {
   "display_name": "mytorch",
   "language": "python",
   "name": "python3"
  },
  "language_info": {
   "codemirror_mode": {
    "name": "ipython",
    "version": 3
   },
   "file_extension": ".py",
   "mimetype": "text/x-python",
   "name": "python",
   "nbconvert_exporter": "python",
   "pygments_lexer": "ipython3",
   "version": "3.9.12"
  },
  "orig_nbformat": 4,
  "vscode": {
   "interpreter": {
    "hash": "083876b6ffcd5ef2289a49d86e086cc585e7b9dbeff261a095e501d87f708cfd"
   }
  }
 },
 "nbformat": 4,
 "nbformat_minor": 2
}

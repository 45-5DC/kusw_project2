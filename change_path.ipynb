{
 "cells": [
  {
   "cell_type": "code",
   "execution_count": 2,
   "metadata": {},
   "outputs": [],
   "source": [
    "import pandas as pd"
   ]
  },
  {
   "cell_type": "code",
   "execution_count": 1,
   "metadata": {},
   "outputs": [],
   "source": [
    "root_sh = \"C:\\\\Users\\\\Public\\\\project3\\\\image\\\\\"\n",
    "root_sy = \"D:\\\\project3Image\\\\\"\n",
    "root_sh = root_sh.split(\"\\\\\")[:-1]\n",
    "root_sy = root_sy.split(\"\\\\\")[:-1]"
   ]
  },
  {
   "cell_type": "code",
   "execution_count": 3,
   "metadata": {},
   "outputs": [],
   "source": [
    "train_tc = pd.read_csv(\"/Users/jm/Desktop/project3/imageCSV/train_truncated.csv\", index_col=0)\n",
    "val_tc = pd.read_csv(\"/Users/jm/Desktop/project3/imageCSV/val_truncated.csv\", index_col=0)\n",
    "test_tc = pd.read_csv(\"/Users/jm/Desktop/project3/imageCSV/test_truncated.csv\", index_col=0)"
   ]
  },
  {
   "cell_type": "code",
   "execution_count": 4,
   "metadata": {},
   "outputs": [],
   "source": [
    "train_tc.filepath = train_tc.filepath.apply(func=lambda x: \"\\\\\".join(root + x.split(\"/\")[5:]))\n",
    "val_tc.filepath = val_tc.filepath.apply(func=lambda x: \"\\\\\".join(root + x.split(\"/\")[5:]))\n",
    "test_tc.filepath = test_tc.filepath.apply(func=lambda x: \"\\\\\".join(root + x.split(\"/\")[5:]))"
   ]
  },
  {
   "cell_type": "code",
   "execution_count": 8,
   "metadata": {},
   "outputs": [],
   "source": [
    "train_tc.to_csv(\"./imageCSV/train_tc_sh.csv\")\n",
    "val_tc.to_csv(\"./imageCSV/val_tc_sh.csv\")\n",
    "test_tc.to_csv(\"./imageCSV/test_tc_sh.csv\")"
   ]
  },
  {
   "cell_type": "code",
   "execution_count": 6,
   "metadata": {},
   "outputs": [],
   "source": [
    "xl_sh = pd.read_csv(\"imageCSV/testForXL.csv\", index_col=0)\n",
    "xl_sy = pd.read_csv(\"imageCSV/testForXL.csv\", index_col=0)\n",
    "\n",
    "\n",
    "xl_sh.filepath = xl_sh.filepath.apply(func=lambda x: \"\\\\\".join(root_sh + x.split(\"/\")[5:]))\n",
    "xl_sy.filepath = xl_sy.filepath.apply(func=lambda x: \"\\\\\".join(root_sy + x.split(\"/\")[5:]))\n",
    "\n",
    "xl_sh.to_csv(\"./csv_window_sh/test_XL_sh\")\n",
    "xl_sy.to_csv(\"./csv_window_sy/test_XL_sy\")"
   ]
  },
  {
   "cell_type": "code",
   "execution_count": 5,
   "metadata": {},
   "outputs": [
    {
     "data": {
      "text/html": [
       "<div>\n",
       "<style scoped>\n",
       "    .dataframe tbody tr th:only-of-type {\n",
       "        vertical-align: middle;\n",
       "    }\n",
       "\n",
       "    .dataframe tbody tr th {\n",
       "        vertical-align: top;\n",
       "    }\n",
       "\n",
       "    .dataframe thead th {\n",
       "        text-align: right;\n",
       "    }\n",
       "</style>\n",
       "<table border=\"1\" class=\"dataframe\">\n",
       "  <thead>\n",
       "    <tr style=\"text-align: right;\">\n",
       "      <th></th>\n",
       "      <th>filepath</th>\n",
       "      <th>label</th>\n",
       "      <th>tag</th>\n",
       "    </tr>\n",
       "  </thead>\n",
       "  <tbody>\n",
       "    <tr>\n",
       "      <th>7246</th>\n",
       "      <td>D:\\project3Image\\ffhq\\fake\\seed18412-2.png</td>\n",
       "      <td>1</td>\n",
       "      <td>FFHQ_StyleGAN3XL</td>\n",
       "    </tr>\n",
       "    <tr>\n",
       "      <th>8288</th>\n",
       "      <td>D:\\project3Image\\ffhq\\fake\\seed18173-0.png</td>\n",
       "      <td>1</td>\n",
       "      <td>FFHQ_StyleGAN3XL</td>\n",
       "    </tr>\n",
       "    <tr>\n",
       "      <th>25288</th>\n",
       "      <td>D:\\project3Image\\ffhq\\fake\\seed21923-0.png</td>\n",
       "      <td>1</td>\n",
       "      <td>FFHQ_StyleGAN3XL</td>\n",
       "    </tr>\n",
       "    <tr>\n",
       "      <th>26272</th>\n",
       "      <td>D:\\project3Image\\ffhq\\real\\06021.png</td>\n",
       "      <td>0</td>\n",
       "      <td>FFHQ</td>\n",
       "    </tr>\n",
       "    <tr>\n",
       "      <th>33719</th>\n",
       "      <td>D:\\project3Image\\ffhq\\real\\01264.png</td>\n",
       "      <td>0</td>\n",
       "      <td>FFHQ</td>\n",
       "    </tr>\n",
       "    <tr>\n",
       "      <th>...</th>\n",
       "      <td>...</td>\n",
       "      <td>...</td>\n",
       "      <td>...</td>\n",
       "    </tr>\n",
       "    <tr>\n",
       "      <th>9745</th>\n",
       "      <td>D:\\project3Image\\CelebA\\CelebA1\\CelebA_089802.png</td>\n",
       "      <td>0</td>\n",
       "      <td>CelebA</td>\n",
       "    </tr>\n",
       "    <tr>\n",
       "      <th>36517</th>\n",
       "      <td>D:\\project3Image\\ffhq\\fake\\seed25229-1.png</td>\n",
       "      <td>1</td>\n",
       "      <td>FFHQ_StyleGAN3XL</td>\n",
       "    </tr>\n",
       "    <tr>\n",
       "      <th>7856</th>\n",
       "      <td>D:\\project3Image\\ffhq\\fake\\seed16565-0.png</td>\n",
       "      <td>1</td>\n",
       "      <td>FFHQ_StyleGAN3XL</td>\n",
       "    </tr>\n",
       "    <tr>\n",
       "      <th>1004</th>\n",
       "      <td>D:\\project3Image\\ffhq\\real\\33973.png</td>\n",
       "      <td>0</td>\n",
       "      <td>FFHQ</td>\n",
       "    </tr>\n",
       "    <tr>\n",
       "      <th>25914</th>\n",
       "      <td>D:\\project3Image\\ffhq\\fake\\seed22079-2.png</td>\n",
       "      <td>1</td>\n",
       "      <td>FFHQ_StyleGAN3XL</td>\n",
       "    </tr>\n",
       "  </tbody>\n",
       "</table>\n",
       "<p>26648 rows × 3 columns</p>\n",
       "</div>"
      ],
      "text/plain": [
       "                                                filepath  label  \\\n",
       "7246          D:\\project3Image\\ffhq\\fake\\seed18412-2.png      1   \n",
       "8288          D:\\project3Image\\ffhq\\fake\\seed18173-0.png      1   \n",
       "25288         D:\\project3Image\\ffhq\\fake\\seed21923-0.png      1   \n",
       "26272               D:\\project3Image\\ffhq\\real\\06021.png      0   \n",
       "33719               D:\\project3Image\\ffhq\\real\\01264.png      0   \n",
       "...                                                  ...    ...   \n",
       "9745   D:\\project3Image\\CelebA\\CelebA1\\CelebA_089802.png      0   \n",
       "36517         D:\\project3Image\\ffhq\\fake\\seed25229-1.png      1   \n",
       "7856          D:\\project3Image\\ffhq\\fake\\seed16565-0.png      1   \n",
       "1004                D:\\project3Image\\ffhq\\real\\33973.png      0   \n",
       "25914         D:\\project3Image\\ffhq\\fake\\seed22079-2.png      1   \n",
       "\n",
       "                    tag  \n",
       "7246   FFHQ_StyleGAN3XL  \n",
       "8288   FFHQ_StyleGAN3XL  \n",
       "25288  FFHQ_StyleGAN3XL  \n",
       "26272              FFHQ  \n",
       "33719              FFHQ  \n",
       "...                 ...  \n",
       "9745             CelebA  \n",
       "36517  FFHQ_StyleGAN3XL  \n",
       "7856   FFHQ_StyleGAN3XL  \n",
       "1004               FFHQ  \n",
       "25914  FFHQ_StyleGAN3XL  \n",
       "\n",
       "[26648 rows x 3 columns]"
      ]
     },
     "execution_count": 5,
     "metadata": {},
     "output_type": "execute_result"
    }
   ],
   "source": [
    "xl_sy"
   ]
  }
 ],
 "metadata": {
  "kernelspec": {
   "display_name": "mytorch",
   "language": "python",
   "name": "python3"
  },
  "language_info": {
   "codemirror_mode": {
    "name": "ipython",
    "version": 3
   },
   "file_extension": ".py",
   "mimetype": "text/x-python",
   "name": "python",
   "nbconvert_exporter": "python",
   "pygments_lexer": "ipython3",
   "version": "3.9.12"
  },
  "orig_nbformat": 4,
  "vscode": {
   "interpreter": {
    "hash": "083876b6ffcd5ef2289a49d86e086cc585e7b9dbeff261a095e501d87f708cfd"
   }
  }
 },
 "nbformat": 4,
 "nbformat_minor": 2
}

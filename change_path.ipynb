{
 "cells": [
  {
   "cell_type": "code",
   "execution_count": 1,
   "metadata": {},
   "outputs": [],
   "source": [
    "import pandas as pd"
   ]
  },
  {
   "cell_type": "code",
   "execution_count": 2,
   "metadata": {},
   "outputs": [
    {
     "data": {
      "text/plain": [
       "['C:', 'Users', 'Public', 'project3', 'image']"
      ]
     },
     "execution_count": 2,
     "metadata": {},
     "output_type": "execute_result"
    }
   ],
   "source": [
    "root = \"C:\\\\Users\\\\Public\\\\project3\\\\image\\\\\"\n",
    "root = root.split(\"\\\\\")[:-1]\n",
    "root"
   ]
  },
  {
   "cell_type": "code",
   "execution_count": 3,
   "metadata": {},
   "outputs": [],
   "source": [
    "train_tc = pd.read_csv(\"/Users/jm/Desktop/project3/imageCSV/train_truncated.csv\", index_col=0)\n",
    "val_tc = pd.read_csv(\"/Users/jm/Desktop/project3/imageCSV/val_truncated.csv\", index_col=0)\n",
    "test_tc = pd.read_csv(\"/Users/jm/Desktop/project3/imageCSV/test_truncated.csv\", index_col=0)"
   ]
  },
  {
   "cell_type": "code",
   "execution_count": 4,
   "metadata": {},
   "outputs": [],
   "source": [
    "train_tc.filepath = train_tc.filepath.apply(func=lambda x: \"\\\\\".join(root + x.split(\"/\")[5:]))\n",
    "val_tc.filepath = val_tc.filepath.apply(func=lambda x: \"\\\\\".join(root + x.split(\"/\")[5:]))\n",
    "test_tc.filepath = test_tc.filepath.apply(func=lambda x: \"\\\\\".join(root + x.split(\"/\")[5:]))"
   ]
  },
  {
   "cell_type": "code",
   "execution_count": 8,
   "metadata": {},
   "outputs": [],
   "source": [
    "train_tc.to_csv(\"./imageCSV/train_tc_window.csv\")\n",
    "val_tc.to_csv(\"./imageCSV/val_tc_window.csv\")\n",
    "test_tc.to_csv(\"./imageCSV/test_tc_window.csv\")"
   ]
  },
  {
   "cell_type": "code",
   "execution_count": 6,
   "metadata": {},
   "outputs": [
    {
     "data": {
      "text/plain": [
       "'C:\\\\Users\\\\Public\\\\project3\\\\image\\\\styleGANone\\\\004634.png'"
      ]
     },
     "execution_count": 6,
     "metadata": {},
     "output_type": "execute_result"
    }
   ],
   "source": [
    "val_tc.filepath.iloc[2]"
   ]
  },
  {
   "cell_type": "code",
   "execution_count": 49,
   "metadata": {},
   "outputs": [
    {
     "name": "stdout",
     "output_type": "stream",
     "text": [
      "<class 'pandas.core.frame.DataFrame'>\n",
      "Int64Index: 13200 entries, 14811 to 7727\n",
      "Data columns (total 3 columns):\n",
      " #   Column    Non-Null Count  Dtype \n",
      "---  ------    --------------  ----- \n",
      " 0   filepath  13200 non-null  object\n",
      " 1   label     13200 non-null  int64 \n",
      " 2   tag       13200 non-null  object\n",
      "dtypes: int64(1), object(2)\n",
      "memory usage: 412.5+ KB\n"
     ]
    }
   ],
   "source": [
    "val_tc.info()"
   ]
  },
  {
   "cell_type": "code",
   "execution_count": 50,
   "metadata": {},
   "outputs": [
    {
     "name": "stdout",
     "output_type": "stream",
     "text": [
      "<class 'pandas.core.frame.DataFrame'>\n",
      "Int64Index: 26400 entries, 5730 to 1172\n",
      "Data columns (total 3 columns):\n",
      " #   Column    Non-Null Count  Dtype \n",
      "---  ------    --------------  ----- \n",
      " 0   filepath  26400 non-null  object\n",
      " 1   label     26400 non-null  int64 \n",
      " 2   tag       26400 non-null  object\n",
      "dtypes: int64(1), object(2)\n",
      "memory usage: 825.0+ KB\n"
     ]
    }
   ],
   "source": [
    "test_tc.info()"
   ]
  },
  {
   "cell_type": "code",
   "execution_count": null,
   "metadata": {},
   "outputs": [],
   "source": []
  }
 ],
 "metadata": {
  "kernelspec": {
   "display_name": "mytorch",
   "language": "python",
   "name": "python3"
  },
  "language_info": {
   "codemirror_mode": {
    "name": "ipython",
    "version": 3
   },
   "file_extension": ".py",
   "mimetype": "text/x-python",
   "name": "python",
   "nbconvert_exporter": "python",
   "pygments_lexer": "ipython3",
   "version": "3.9.12"
  },
  "orig_nbformat": 4,
  "vscode": {
   "interpreter": {
    "hash": "083876b6ffcd5ef2289a49d86e086cc585e7b9dbeff261a095e501d87f708cfd"
   }
  }
 },
 "nbformat": 4,
 "nbformat_minor": 2
}

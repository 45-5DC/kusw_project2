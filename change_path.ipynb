{
 "cells": [
  {
   "cell_type": "code",
   "execution_count": 1,
   "metadata": {},
   "outputs": [],
   "source": [
    "import pandas as pd"
   ]
  },
  {
   "cell_type": "code",
   "execution_count": 26,
   "metadata": {},
   "outputs": [
    {
     "data": {
      "text/plain": [
       "['C:', 'Users', 'Public', 'project3', 'image']"
      ]
     },
     "execution_count": 26,
     "metadata": {},
     "output_type": "execute_result"
    }
   ],
   "source": [
    "root = \"C:\\\\Users\\\\Public\\\\project3\\\\image\\\\\"\n",
    "root = root.split(\"\\\\\")[:-1]\n",
    "root"
   ]
  },
  {
   "cell_type": "code",
   "execution_count": 4,
   "metadata": {},
   "outputs": [],
   "source": [
    "train_tc = pd.read_csv(\"/Users/jm/Desktop/project3/imageCSV/train_truncated.csv\", index_col=0)\n",
    "val_tc = pd.read_csv(\"/Users/jm/Desktop/project3/imageCSV/val_truncated.csv\", index_col=0)\n",
    "test_tc = pd.read_csv(\"/Users/jm/Desktop/project3/imageCSV/test_truncated.csv\", index_col=0)"
   ]
  },
  {
   "cell_type": "code",
   "execution_count": 32,
   "metadata": {},
   "outputs": [
    {
     "data": {
      "text/plain": [
       "5935     C:\\\\Users\\\\Public\\\\project3\\\\image\\\\styleGAN1\\...\n",
       "2392     C:\\\\Users\\\\Public\\\\project3\\\\image\\\\CelebA_sta...\n",
       "8304     C:\\\\Users\\\\Public\\\\project3\\\\image\\\\styleGAN1\\...\n",
       "7297     C:\\\\Users\\\\Public\\\\project3\\\\image\\\\styleGAN1\\...\n",
       "15759    C:\\\\Users\\\\Public\\\\project3\\\\image\\\\styleGANtw...\n",
       "                               ...                        \n",
       "3578     C:\\\\Users\\\\Public\\\\project3\\\\image\\\\styleGAN1\\...\n",
       "11024    C:\\\\Users\\\\Public\\\\project3\\\\image\\\\LFW\\\\LFW_1...\n",
       "39637    C:\\\\Users\\\\Public\\\\project3\\\\image\\\\CelebA\\\\Ce...\n",
       "1841     C:\\\\Users\\\\Public\\\\project3\\\\image\\\\styleGAN1\\...\n",
       "262      C:\\\\Users\\\\Public\\\\project3\\\\image\\\\styleGAN1\\...\n",
       "Name: filepath, Length: 92400, dtype: object"
      ]
     },
     "execution_count": 32,
     "metadata": {},
     "output_type": "execute_result"
    }
   ],
   "source": [
    "train_tc.filepath.apply(func=lambda x: r\"\\\\\".join(root + x.split(\"/\")[5:]))"
   ]
  },
  {
   "cell_type": "code",
   "execution_count": 41,
   "metadata": {},
   "outputs": [],
   "source": [
    "train_tc.filepath = train_tc.filepath.apply(func=lambda x: r\"\\\\\".join(root + x.split(\"/\")[5:]))\n",
    "val_tc.filepath = val_tc.filepath.apply(func=lambda x: r\"\\\\\".join(root + x.split(\"/\")[5:]))\n",
    "test_tc.filepath = test_tc.filepath.apply(func=lambda x: r\"\\\\\".join(root + x.split(\"/\")[5:]))"
   ]
  },
  {
   "cell_type": "code",
   "execution_count": 44,
   "metadata": {},
   "outputs": [
    {
     "name": "stdout",
     "output_type": "stream",
     "text": [
      "<class 'pandas.core.frame.DataFrame'>\n",
      "Int64Index: 26400 entries, 5730 to 1172\n",
      "Data columns (total 3 columns):\n",
      " #   Column    Non-Null Count  Dtype \n",
      "---  ------    --------------  ----- \n",
      " 0   filepath  26400 non-null  object\n",
      " 1   label     26400 non-null  int64 \n",
      " 2   tag       26400 non-null  object\n",
      "dtypes: int64(1), object(2)\n",
      "memory usage: 825.0+ KB\n"
     ]
    }
   ],
   "source": [
    "test_tc.info()"
   ]
  }
 ],
 "metadata": {
  "kernelspec": {
   "display_name": "mytorch",
   "language": "python",
   "name": "python3"
  },
  "language_info": {
   "codemirror_mode": {
    "name": "ipython",
    "version": 3
   },
   "file_extension": ".py",
   "mimetype": "text/x-python",
   "name": "python",
   "nbconvert_exporter": "python",
   "pygments_lexer": "ipython3",
   "version": "3.9.12"
  },
  "orig_nbformat": 4,
  "vscode": {
   "interpreter": {
    "hash": "083876b6ffcd5ef2289a49d86e086cc585e7b9dbeff261a095e501d87f708cfd"
   }
  }
 },
 "nbformat": 4,
 "nbformat_minor": 2
}

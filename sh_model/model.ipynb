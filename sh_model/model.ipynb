{
  "cells": [
    {
      "cell_type": "code",
      "execution_count": null,
      "metadata": {
        "colab": {
          "base_uri": "https://localhost:8080/"
        },
        "id": "fAhS27sSSm3e",
        "outputId": "1d8fbbbc-48b5-4444-a311-d95e772f8907"
      },
      "outputs": [
        {
          "name": "stdout",
          "output_type": "stream",
          "text": [
            "Mounted at /content/drive\n"
          ]
        }
      ],
      "source": [
        "from google.colab import drive\n",
        "drive.mount('/content/drive')"
      ]
    },
    {
      "cell_type": "code",
      "execution_count": null,
      "metadata": {
        "id": "bAk6-tywSqLw"
      },
      "outputs": [],
      "source": [
        "import os\n",
        "import pandas as pd\n",
        "from torchvision.io import read_image\n",
        "\n",
        "import torch, torchvision\n",
        "import torch.nn as nn\n",
        "import torch.optim as optim\n",
        "from torch.optim import lr_scheduler\n",
        "import torch.backends.cudnn as cudnn\n",
        "from torch.utils.data import Dataset\n",
        "from torchvision import datasets, models, transforms\n",
        "import matplotlib.pyplot as plt\n",
        "\n",
        "import copy\n",
        "import time\n",
        "import numpy as np\n",
        "\n",
        "cudnn.benchmark = True"
      ]
    },
    {
      "cell_type": "code",
      "execution_count": null,
      "metadata": {
        "colab": {
          "base_uri": "https://localhost:8080/"
        },
        "id": "0hxJ1CspSsvh",
        "outputId": "68f36290-e25f-4483-ce96-7b6c71913d54"
      },
      "outputs": [
        {
          "name": "stdout",
          "output_type": "stream",
          "text": [
            "cuda:0\n"
          ]
        }
      ],
      "source": [
        "use_cuda = True\n",
        "device = 'cuda:0' if torch.cuda.is_available() and use_cuda else 'cpu'\n",
        "print(device)"
      ]
    },
    {
      "cell_type": "code",
      "execution_count": null,
      "metadata": {
        "colab": {
          "base_uri": "https://localhost:8080/"
        },
        "id": "hHfuHkUNWIRF",
        "outputId": "cb115ddb-863e-490a-a06c-8fca8327fbc2"
      },
      "outputs": [
        {
          "name": "stdout",
          "output_type": "stream",
          "text": [
            "Mon Dec 12 12:39:06 2022       \n",
            "+-----------------------------------------------------------------------------+\n",
            "| NVIDIA-SMI 460.32.03    Driver Version: 460.32.03    CUDA Version: 11.2     |\n",
            "|-------------------------------+----------------------+----------------------+\n",
            "| GPU  Name        Persistence-M| Bus-Id        Disp.A | Volatile Uncorr. ECC |\n",
            "| Fan  Temp  Perf  Pwr:Usage/Cap|         Memory-Usage | GPU-Util  Compute M. |\n",
            "|                               |                      |               MIG M. |\n",
            "|===============================+======================+======================|\n",
            "|   0  Tesla T4            Off  | 00000000:00:04.0 Off |                    0 |\n",
            "| N/A   36C    P8     9W /  70W |      3MiB / 15109MiB |      0%      Default |\n",
            "|                               |                      |                  N/A |\n",
            "+-------------------------------+----------------------+----------------------+\n",
            "                                                                               \n",
            "+-----------------------------------------------------------------------------+\n",
            "| Processes:                                                                  |\n",
            "|  GPU   GI   CI        PID   Type   Process name                  GPU Memory |\n",
            "|        ID   ID                                                   Usage      |\n",
            "|=============================================================================|\n",
            "|  No running processes found                                                 |\n",
            "+-----------------------------------------------------------------------------+\n"
          ]
        }
      ],
      "source": [
        "!nvidia-smi"
      ]
    },
    {
      "cell_type": "code",
      "execution_count": null,
      "metadata": {
        "id": "OPZXJDtQSv6J"
      },
      "outputs": [],
      "source": [
        "class CustomImageDataset(Dataset):\n",
        "    def __init__(self, annotations_file, transform=None, target_transform=None):\n",
        "        self.img_labels = pd.read_csv(annotations_file, index_col=0).reset_index()\n",
        "        self.img_filepath = self.img_labels.filepath\n",
        "        self.transform = transform\n",
        "        self.target_transform = target_transform\n",
        "\n",
        "    def __len__(self):\n",
        "        return len(self.img_labels)\n",
        "    \n",
        "    def __getitem__(self, idx):\n",
        "        img_path = os.path.join(self.img_filepath.iloc[idx])\n",
        "        image = read_image(img_path)\n",
        "        label = self.img_labels.iloc[idx, 2]\n",
        "        if self.transform:\n",
        "            image = self.transform(image)\n",
        "        if self.target_transform:\n",
        "            label = self.target_transform(label)\n",
        "        return image, label"
      ]
    },
    {
      "cell_type": "code",
      "execution_count": null,
      "metadata": {
        "id": "I0mOshSiSx29"
      },
      "outputs": [],
      "source": [
        "transform = transforms.Compose(\n",
        "    [transforms.Resize((224,224)), \n",
        "    # transforms.ToTensor(), # read_image로 가져와서 텐서임\n",
        "    ])\n",
        "\n",
        "batch_size = 64"
      ]
    },
    {
      "cell_type": "code",
      "execution_count": null,
      "metadata": {
        "id": "3Scl6NjSSz9W"
      },
      "outputs": [],
      "source": [
        "trainset = CustomImageDataset('/content/drive/MyDrive/csv_house/train.csv', transform=transform)\n",
        "trainloader = torch.utils.data.DataLoader(trainset, batch_size=batch_size, shuffle=True, num_workers=2)\n",
        "\n",
        "valset = CustomImageDataset('/content/drive/MyDrive/csv_house/val.csv', transform=transform)\n",
        "valloader = torch.utils.data.DataLoader(valset, batch_size=batch_size, shuffle=True, num_workers=2)\n",
        "\n",
        "testset = CustomImageDataset('/content/drive/MyDrive/csv_house/test.csv', transform=transform)\n",
        "testloader = torch.utils.data.DataLoader(testset, batch_size=batch_size, num_workers=2)\n",
        "\n",
        "datasets = {'train': trainset, 'val': valset, 'test': testset}\n",
        "dataloaders = {'train': trainloader, 'val': valloader, 'test': testloader}\n",
        "datasets_sizes = {x: len(datasets[x]) for x in ['train', 'val', 'test']}\n"
      ]
    },
    {
      "cell_type": "code",
      "execution_count": null,
      "metadata": {
        "colab": {
          "base_uri": "https://localhost:8080/"
        },
        "id": "rGcmVBVRUyXd",
        "outputId": "fe8b9f38-82a2-4dea-f4b5-f51f2550f051"
      },
      "outputs": [
        {
          "data": {
            "text/plain": [
              "0"
            ]
          },
          "execution_count": 46,
          "metadata": {},
          "output_type": "execute_result"
        }
      ],
      "source": [
        "pd.read_csv('/content/drive/MyDrive/csv_house/val.csv', index_col=0).reset_index().iloc[0, 2]"
      ]
    },
    {
      "cell_type": "code",
      "execution_count": null,
      "metadata": {
        "id": "T7TfqjiwU4l1"
      },
      "outputs": [],
      "source": [
        "valset = CustomImageDataset('/content/drive/MyDrive/csv_house/val.csv', transform=transform)\n",
        "valloader = torch.utils.data.DataLoader(valset, batch_size=batch_size, shuffle=True, num_workers=2)"
      ]
    },
    {
      "cell_type": "code",
      "execution_count": null,
      "metadata": {
        "id": "cqgd8Y4sjIGv"
      },
      "outputs": [],
      "source": [
        "val = pd.read_csv('/content/drive/MyDrive/csv_house/total.csv', index_col=0).reset_index()"
      ]
    },
    {
      "cell_type": "code",
      "execution_count": null,
      "metadata": {
        "id": "didJJ3nqjNSk"
      },
      "outputs": [],
      "source": [
        "for ext in [val_path[-3:] for val_path in val.filepath]:\n",
        "    if ext != 'png' and ext != 'jpg':\n",
        "        print(ext)\n",
        "    else:\n",
        "        pass"
      ]
    },
    {
      "cell_type": "code",
      "execution_count": null,
      "metadata": {
        "id": "AiGyH73BWYiK"
      },
      "outputs": [],
      "source": [
        "def train_model(model, criterion, optimizer, scheduler, num_epochs):\n",
        "    since = time.time()\n",
        "\n",
        "    best_model_wts = copy.deepcopy(model.state_dict())\n",
        "    best_acc = 0.0\n",
        "\n",
        "    for epoch in range(num_epochs):\n",
        "        print(f'Epoch {epoch+1}/{num_epochs}')\n",
        "        print('-'*10)\n",
        "\n",
        "    # 각 epoch은 학습 단계와 검증 단계 가짐\n",
        "        for phase in ['train', 'val']:\n",
        "            if phase == 'train':\n",
        "                model.train() # 모델 학습모드로 설정\n",
        "            else:\n",
        "                model.eval() # 모델 평가모드로 설정\n",
        "      \n",
        "            running_loss = 0.0\n",
        "            running_corrects = 0\n",
        "\n",
        "      # 데이터 반복\n",
        "            batch_loss = 0.0\n",
        "            for i, (inputs, labels) in enumerate(dataloaders[phase]):\n",
        "                inputs = inputs.float().to(device)\n",
        "                labels = labels.float().unsqueeze(1).to(device)\n",
        "\n",
        "        # parameter gradient 0으로 설정\n",
        "                optimizer.zero_grad()\n",
        "\n",
        "        # 순전파\n",
        "        # 학습 때만 연산 기록 추적\n",
        "                with torch.set_grad_enabled(phase == 'train'):\n",
        "                    outputs = model(inputs)\n",
        "                    loss = criterion(outputs, labels)\n",
        "\n",
        "          # 학습 단계인 경우 역전파 + 최적화\n",
        "                    if phase == 'train':\n",
        "                        loss.backward()\n",
        "                        optimizer.step()\n",
        "\n",
        "          # 통계 ~ 여기에 학습 그래프 넣어보기\n",
        "                # 배치 10개 당\n",
        "                batch_loss += loss.item()\n",
        "                if i % 10 == 9:\n",
        "                    print(f'[{epoch+1}, {i+1:5d}] loss: {batch_loss / 10:.3f}')\n",
        "                    batch_loss = 0.0\n",
        "                # epoch 당\n",
        "                running_loss += loss.item() * inputs.size(0)\n",
        "                pred = torch.special.expit(outputs) >= torch.FloatTensor([0.5]).to(device)\n",
        "                running_corrects += torch.sum(pred == labels.data)\n",
        "            if phase == 'train':\n",
        "                scheduler.step()\n",
        "\n",
        "            epoch_loss = running_loss / datasets_sizes[phase]\n",
        "            epoch_acc = running_corrects.double() / datasets_sizes[phase]\n",
        "\n",
        "            print(f'{phase} Loss: {epoch_loss:.4f} Acc: {epoch_acc:.4f}')\n",
        "\n",
        "        # 모델 deepcopy\n",
        "            if phase == 'val' and epoch_acc > best_acc:\n",
        "                best_acc = epoch_acc\n",
        "                best_model_wts = copy.deepcopy(model.state_dict())\n",
        "\n",
        "        print()\n",
        "\n",
        "    time_elapsed = time.time() - since\n",
        "    print(f'Training complete in {time_elapsed // 60:.0f}m {time_elapsed % 60:.0f}s')\n",
        "    print(f'Best val Acc: {best_acc:4f}')\n",
        "\n",
        "  # load best model weights\n",
        "    model.load_state_dict(best_model_wts)\n",
        "    return model"
      ]
    },
    {
      "cell_type": "code",
      "execution_count": null,
      "metadata": {
        "id": "JObmb2EpWtyY"
      },
      "outputs": [],
      "source": [
        "backbone = torchvision.models.efficientnet_v2_s(weights='EfficientNet_V2_S_Weights.IMAGENET1K_V1')"
      ]
    },
    {
      "cell_type": "code",
      "execution_count": null,
      "metadata": {
        "id": "bDJ4AJz5W0ho"
      },
      "outputs": [],
      "source": [
        "for param in backbone.parameters():\n",
        "    param.requires_grad = False\n",
        "\n",
        "backbone.classifier = torch.nn.Sequential(\n",
        "    torch.nn.Dropout(p=0.2, inplace=True),\n",
        "    torch.nn.Linear(1280, 512),\n",
        "    torch.nn.Linear(512, 128),\n",
        "    torch.nn.Linear(128, 1),\n",
        ")\n",
        "\n",
        "model = backbone.to(device)\n",
        "criterion = torch.nn.BCEWithLogitsLoss()\n",
        "\n",
        "optimizer = torch.optim.SGD(model.classifier.parameters(), lr=1e-3, momentum=0.9)\n",
        "\n",
        "# 7 에폭마다 0.1씩 학습률 감소\n",
        "exp_lr_scheduler = lr_scheduler.StepLR(optimizer, step_size=7, gamma=0.1)"
      ]
    },
    {
      "cell_type": "code",
      "execution_count": null,
      "metadata": {
        "colab": {
          "base_uri": "https://localhost:8080/"
        },
        "id": "vn7WkxiKXC8n",
        "outputId": "725b8f84-48a9-4378-dbc0-045c8e9cc82f"
      },
      "outputs": [
        {
          "data": {
            "text/plain": [
              "Sequential(\n",
              "  (0): Dropout(p=0.2, inplace=True)\n",
              "  (1): Linear(in_features=1280, out_features=512, bias=True)\n",
              "  (2): Linear(in_features=512, out_features=128, bias=True)\n",
              "  (3): Linear(in_features=128, out_features=1, bias=True)\n",
              ")"
            ]
          },
          "execution_count": 33,
          "metadata": {},
          "output_type": "execute_result"
        }
      ],
      "source": [
        "model.classifier"
      ]
    },
    {
      "cell_type": "code",
      "execution_count": null,
      "metadata": {
        "id": "1cWj7jztkNPh"
      },
      "outputs": [],
      "source": []
    },
    {
      "cell_type": "code",
      "execution_count": null,
      "metadata": {
        "id": "quzuyIaUXGgN"
      },
      "outputs": [],
      "source": [
        "for param in backbone.parameters():\n",
        "    print(param.requires_grad)"
      ]
    },
    {
      "cell_type": "code",
      "execution_count": 40,
      "metadata": {
        "colab": {
          "base_uri": "https://localhost:8080/"
        },
        "id": "BiWTdwl9XIr0",
        "outputId": "b80b6947-7b67-4859-b785-19bf2aecd52e"
      },
      "outputs": [
        {
          "output_type": "stream",
          "name": "stdout",
          "text": [
            "Epoch 1/2\n",
            "----------\n",
            "[1,    10] loss: 0.699\n",
            "[1,    20] loss: 0.686\n",
            "[1,    30] loss: 0.666\n",
            "[1,    40] loss: 0.654\n",
            "[1,    50] loss: 0.640\n",
            "[1,    60] loss: 0.621\n",
            "[1,    70] loss: 0.613\n",
            "[1,    80] loss: 0.610\n",
            "[1,    90] loss: 0.594\n",
            "[1,   100] loss: 0.581\n",
            "[1,   110] loss: 0.581\n",
            "[1,   120] loss: 0.580\n",
            "[1,   130] loss: 0.552\n",
            "[1,   140] loss: 0.564\n",
            "[1,   150] loss: 0.562\n",
            "[1,   160] loss: 0.539\n",
            "[1,   170] loss: 0.520\n",
            "[1,   180] loss: 0.534\n",
            "[1,   190] loss: 0.513\n",
            "[1,   200] loss: 0.521\n",
            "[1,   210] loss: 0.500\n",
            "[1,   220] loss: 0.507\n",
            "[1,   230] loss: 0.467\n",
            "[1,   240] loss: 0.471\n",
            "[1,   250] loss: 0.446\n",
            "[1,   260] loss: 0.460\n",
            "[1,   270] loss: 0.462\n",
            "[1,   280] loss: 0.457\n",
            "[1,   290] loss: 0.452\n",
            "[1,   300] loss: 0.439\n",
            "[1,   310] loss: 0.442\n",
            "[1,   320] loss: 0.450\n",
            "[1,   330] loss: 0.415\n",
            "[1,   340] loss: 0.411\n",
            "[1,   350] loss: 0.412\n",
            "[1,   360] loss: 0.414\n",
            "[1,   370] loss: 0.413\n",
            "[1,   380] loss: 0.410\n",
            "[1,   390] loss: 0.438\n",
            "[1,   400] loss: 0.421\n",
            "[1,   410] loss: 0.417\n",
            "[1,   420] loss: 0.373\n",
            "[1,   430] loss: 0.410\n",
            "[1,   440] loss: 0.393\n",
            "[1,   450] loss: 0.398\n",
            "[1,   460] loss: 0.395\n",
            "[1,   470] loss: 0.369\n",
            "[1,   480] loss: 0.381\n",
            "[1,   490] loss: 0.380\n",
            "[1,   500] loss: 0.363\n",
            "[1,   510] loss: 0.385\n",
            "[1,   520] loss: 0.385\n",
            "[1,   530] loss: 0.331\n",
            "[1,   540] loss: 0.397\n",
            "[1,   550] loss: 0.383\n",
            "[1,   560] loss: 0.383\n",
            "[1,   570] loss: 0.407\n",
            "[1,   580] loss: 0.368\n",
            "[1,   590] loss: 0.360\n",
            "[1,   600] loss: 0.346\n",
            "[1,   610] loss: 0.378\n",
            "[1,   620] loss: 0.334\n",
            "[1,   630] loss: 0.351\n",
            "[1,   640] loss: 0.346\n",
            "[1,   650] loss: 0.363\n",
            "[1,   660] loss: 0.329\n",
            "[1,   670] loss: 0.416\n",
            "[1,   680] loss: 0.340\n",
            "[1,   690] loss: 0.343\n",
            "[1,   700] loss: 0.395\n",
            "[1,   710] loss: 0.371\n",
            "[1,   720] loss: 0.371\n",
            "[1,   730] loss: 0.405\n",
            "[1,   740] loss: 0.333\n",
            "[1,   750] loss: 0.353\n",
            "[1,   760] loss: 0.367\n",
            "[1,   770] loss: 0.306\n",
            "[1,   780] loss: 0.320\n",
            "[1,   790] loss: 0.365\n",
            "[1,   800] loss: 0.361\n",
            "[1,   810] loss: 0.366\n",
            "[1,   820] loss: 0.372\n",
            "[1,   830] loss: 0.327\n",
            "[1,   840] loss: 0.360\n",
            "[1,   850] loss: 0.310\n",
            "[1,   860] loss: 0.355\n",
            "[1,   870] loss: 0.326\n",
            "[1,   880] loss: 0.307\n",
            "[1,   890] loss: 0.316\n",
            "[1,   900] loss: 0.350\n",
            "[1,   910] loss: 0.323\n",
            "[1,   920] loss: 0.357\n",
            "[1,   930] loss: 0.358\n",
            "[1,   940] loss: 0.327\n",
            "[1,   950] loss: 0.333\n",
            "[1,   960] loss: 0.333\n",
            "[1,   970] loss: 0.331\n",
            "[1,   980] loss: 0.339\n",
            "[1,   990] loss: 0.350\n",
            "[1,  1000] loss: 0.361\n",
            "[1,  1010] loss: 0.333\n",
            "[1,  1020] loss: 0.355\n",
            "[1,  1030] loss: 0.333\n",
            "[1,  1040] loss: 0.331\n",
            "[1,  1050] loss: 0.311\n",
            "[1,  1060] loss: 0.319\n",
            "[1,  1070] loss: 0.327\n",
            "[1,  1080] loss: 0.282\n",
            "[1,  1090] loss: 0.350\n",
            "[1,  1100] loss: 0.337\n",
            "[1,  1110] loss: 0.340\n",
            "[1,  1120] loss: 0.320\n",
            "[1,  1130] loss: 0.337\n",
            "[1,  1140] loss: 0.333\n",
            "[1,  1150] loss: 0.335\n",
            "[1,  1160] loss: 0.302\n",
            "[1,  1170] loss: 0.323\n",
            "[1,  1180] loss: 0.297\n",
            "[1,  1190] loss: 0.367\n",
            "[1,  1200] loss: 0.329\n",
            "[1,  1210] loss: 0.348\n",
            "[1,  1220] loss: 0.306\n",
            "[1,  1230] loss: 0.346\n",
            "[1,  1240] loss: 0.324\n",
            "[1,  1250] loss: 0.294\n",
            "[1,  1260] loss: 0.316\n",
            "[1,  1270] loss: 0.332\n",
            "[1,  1280] loss: 0.341\n",
            "[1,  1290] loss: 0.299\n",
            "[1,  1300] loss: 0.333\n",
            "[1,  1310] loss: 0.355\n",
            "[1,  1320] loss: 0.320\n",
            "[1,  1330] loss: 0.325\n",
            "[1,  1340] loss: 0.291\n",
            "[1,  1350] loss: 0.322\n",
            "[1,  1360] loss: 0.314\n",
            "[1,  1370] loss: 0.327\n",
            "[1,  1380] loss: 0.365\n",
            "[1,  1390] loss: 0.318\n",
            "[1,  1400] loss: 0.295\n",
            "[1,  1410] loss: 0.277\n",
            "[1,  1420] loss: 0.354\n",
            "[1,  1430] loss: 0.330\n",
            "[1,  1440] loss: 0.340\n",
            "[1,  1450] loss: 0.288\n",
            "[1,  1460] loss: 0.324\n",
            "[1,  1470] loss: 0.342\n",
            "[1,  1480] loss: 0.307\n",
            "[1,  1490] loss: 0.316\n",
            "[1,  1500] loss: 0.317\n",
            "[1,  1510] loss: 0.331\n",
            "[1,  1520] loss: 0.297\n",
            "[1,  1530] loss: 0.292\n",
            "[1,  1540] loss: 0.335\n",
            "[1,  1550] loss: 0.339\n",
            "[1,  1560] loss: 0.338\n",
            "[1,  1570] loss: 0.327\n",
            "train Loss: 0.3872 Acc: 0.8211\n",
            "[1,    10] loss: 0.326\n",
            "[1,    20] loss: 0.310\n",
            "[1,    30] loss: 0.311\n",
            "[1,    40] loss: 0.284\n",
            "[1,    50] loss: 0.288\n",
            "[1,    60] loss: 0.281\n",
            "[1,    70] loss: 0.323\n",
            "[1,    80] loss: 0.330\n",
            "[1,    90] loss: 0.309\n",
            "[1,   100] loss: 0.292\n",
            "[1,   110] loss: 0.296\n",
            "[1,   120] loss: 0.285\n",
            "[1,   130] loss: 0.294\n",
            "[1,   140] loss: 0.309\n",
            "[1,   150] loss: 0.330\n",
            "[1,   160] loss: 0.290\n",
            "[1,   170] loss: 0.279\n",
            "[1,   180] loss: 0.319\n",
            "[1,   190] loss: 0.292\n",
            "[1,   200] loss: 0.321\n",
            "[1,   210] loss: 0.286\n",
            "[1,   220] loss: 0.285\n",
            "val Loss: 0.3012 Acc: 0.8725\n",
            "\n",
            "Epoch 2/2\n",
            "----------\n",
            "[2,    10] loss: 0.284\n",
            "[2,    20] loss: 0.283\n",
            "[2,    30] loss: 0.314\n",
            "[2,    40] loss: 0.314\n",
            "[2,    50] loss: 0.280\n",
            "[2,    60] loss: 0.308\n",
            "[2,    70] loss: 0.307\n",
            "[2,    80] loss: 0.324\n",
            "[2,    90] loss: 0.323\n",
            "[2,   100] loss: 0.314\n",
            "[2,   110] loss: 0.331\n",
            "[2,   120] loss: 0.312\n",
            "[2,   130] loss: 0.322\n",
            "[2,   140] loss: 0.336\n",
            "[2,   150] loss: 0.305\n",
            "[2,   160] loss: 0.337\n",
            "[2,   170] loss: 0.334\n",
            "[2,   180] loss: 0.324\n",
            "[2,   190] loss: 0.315\n",
            "[2,   200] loss: 0.312\n",
            "[2,   210] loss: 0.308\n",
            "[2,   220] loss: 0.367\n",
            "[2,   230] loss: 0.266\n",
            "[2,   240] loss: 0.305\n",
            "[2,   250] loss: 0.309\n",
            "[2,   260] loss: 0.301\n",
            "[2,   270] loss: 0.301\n",
            "[2,   280] loss: 0.321\n",
            "[2,   290] loss: 0.356\n",
            "[2,   300] loss: 0.308\n",
            "[2,   310] loss: 0.303\n",
            "[2,   320] loss: 0.344\n",
            "[2,   330] loss: 0.305\n",
            "[2,   340] loss: 0.303\n",
            "[2,   350] loss: 0.291\n",
            "[2,   360] loss: 0.314\n",
            "[2,   370] loss: 0.352\n",
            "[2,   380] loss: 0.285\n",
            "[2,   390] loss: 0.299\n",
            "[2,   400] loss: 0.274\n",
            "[2,   410] loss: 0.303\n",
            "[2,   420] loss: 0.300\n",
            "[2,   430] loss: 0.321\n",
            "[2,   440] loss: 0.327\n",
            "[2,   450] loss: 0.290\n",
            "[2,   460] loss: 0.313\n",
            "[2,   470] loss: 0.296\n",
            "[2,   480] loss: 0.307\n",
            "[2,   490] loss: 0.337\n",
            "[2,   500] loss: 0.343\n",
            "[2,   510] loss: 0.316\n",
            "[2,   520] loss: 0.327\n",
            "[2,   530] loss: 0.298\n",
            "[2,   540] loss: 0.323\n",
            "[2,   550] loss: 0.319\n",
            "[2,   560] loss: 0.317\n",
            "[2,   570] loss: 0.306\n",
            "[2,   580] loss: 0.290\n",
            "[2,   590] loss: 0.280\n",
            "[2,   600] loss: 0.314\n",
            "[2,   610] loss: 0.336\n",
            "[2,   620] loss: 0.310\n",
            "[2,   630] loss: 0.310\n",
            "[2,   640] loss: 0.319\n",
            "[2,   650] loss: 0.322\n",
            "[2,   660] loss: 0.285\n",
            "[2,   670] loss: 0.327\n",
            "[2,   680] loss: 0.290\n",
            "[2,   690] loss: 0.298\n",
            "[2,   700] loss: 0.301\n",
            "[2,   710] loss: 0.312\n",
            "[2,   720] loss: 0.327\n",
            "[2,   730] loss: 0.321\n",
            "[2,   740] loss: 0.301\n",
            "[2,   750] loss: 0.303\n",
            "[2,   760] loss: 0.293\n",
            "[2,   770] loss: 0.284\n",
            "[2,   780] loss: 0.294\n",
            "[2,   790] loss: 0.294\n",
            "[2,   800] loss: 0.317\n",
            "[2,   810] loss: 0.310\n",
            "[2,   820] loss: 0.264\n",
            "[2,   830] loss: 0.292\n",
            "[2,   840] loss: 0.305\n",
            "[2,   850] loss: 0.290\n",
            "[2,   860] loss: 0.333\n",
            "[2,   870] loss: 0.319\n",
            "[2,   880] loss: 0.293\n",
            "[2,   890] loss: 0.284\n",
            "[2,   900] loss: 0.339\n",
            "[2,   910] loss: 0.291\n",
            "[2,   920] loss: 0.315\n",
            "[2,   930] loss: 0.261\n",
            "[2,   940] loss: 0.305\n",
            "[2,   950] loss: 0.322\n",
            "[2,   960] loss: 0.314\n",
            "[2,   970] loss: 0.340\n",
            "[2,   980] loss: 0.284\n",
            "[2,   990] loss: 0.243\n",
            "[2,  1000] loss: 0.290\n",
            "[2,  1010] loss: 0.318\n",
            "[2,  1020] loss: 0.294\n",
            "[2,  1030] loss: 0.317\n",
            "[2,  1040] loss: 0.305\n",
            "[2,  1050] loss: 0.314\n",
            "[2,  1060] loss: 0.288\n",
            "[2,  1070] loss: 0.341\n",
            "[2,  1080] loss: 0.306\n",
            "[2,  1090] loss: 0.308\n",
            "[2,  1100] loss: 0.352\n",
            "[2,  1110] loss: 0.289\n",
            "[2,  1120] loss: 0.290\n",
            "[2,  1130] loss: 0.308\n",
            "[2,  1140] loss: 0.293\n",
            "[2,  1150] loss: 0.327\n",
            "[2,  1160] loss: 0.338\n",
            "[2,  1170] loss: 0.317\n",
            "[2,  1180] loss: 0.297\n",
            "[2,  1190] loss: 0.288\n",
            "[2,  1200] loss: 0.340\n",
            "[2,  1210] loss: 0.311\n",
            "[2,  1220] loss: 0.327\n",
            "[2,  1230] loss: 0.303\n",
            "[2,  1240] loss: 0.292\n",
            "[2,  1250] loss: 0.269\n",
            "[2,  1260] loss: 0.301\n",
            "[2,  1270] loss: 0.343\n",
            "[2,  1280] loss: 0.321\n",
            "[2,  1290] loss: 0.285\n",
            "[2,  1300] loss: 0.305\n",
            "[2,  1310] loss: 0.306\n",
            "[2,  1320] loss: 0.306\n",
            "[2,  1330] loss: 0.297\n",
            "[2,  1340] loss: 0.306\n",
            "[2,  1350] loss: 0.305\n",
            "[2,  1360] loss: 0.290\n",
            "[2,  1370] loss: 0.281\n",
            "[2,  1380] loss: 0.303\n",
            "[2,  1390] loss: 0.285\n",
            "[2,  1400] loss: 0.300\n",
            "[2,  1410] loss: 0.265\n",
            "[2,  1420] loss: 0.283\n",
            "[2,  1430] loss: 0.334\n",
            "[2,  1440] loss: 0.341\n",
            "[2,  1450] loss: 0.302\n",
            "[2,  1460] loss: 0.346\n",
            "[2,  1470] loss: 0.330\n",
            "[2,  1480] loss: 0.286\n",
            "[2,  1490] loss: 0.256\n",
            "[2,  1500] loss: 0.289\n",
            "[2,  1510] loss: 0.326\n",
            "[2,  1520] loss: 0.281\n",
            "[2,  1530] loss: 0.322\n",
            "[2,  1540] loss: 0.309\n",
            "[2,  1550] loss: 0.332\n",
            "[2,  1560] loss: 0.305\n",
            "[2,  1570] loss: 0.260\n",
            "train Loss: 0.3075 Acc: 0.8646\n",
            "[2,    10] loss: 0.316\n",
            "[2,    20] loss: 0.262\n",
            "[2,    30] loss: 0.260\n",
            "[2,    40] loss: 0.279\n",
            "[2,    50] loss: 0.255\n",
            "[2,    60] loss: 0.250\n",
            "[2,    70] loss: 0.292\n",
            "[2,    80] loss: 0.292\n",
            "[2,    90] loss: 0.283\n",
            "[2,   100] loss: 0.260\n",
            "[2,   110] loss: 0.282\n",
            "[2,   120] loss: 0.256\n",
            "[2,   130] loss: 0.252\n",
            "[2,   140] loss: 0.233\n",
            "[2,   150] loss: 0.302\n",
            "[2,   160] loss: 0.248\n",
            "[2,   170] loss: 0.268\n",
            "[2,   180] loss: 0.279\n",
            "[2,   190] loss: 0.305\n",
            "[2,   200] loss: 0.282\n",
            "[2,   210] loss: 0.268\n",
            "[2,   220] loss: 0.318\n",
            "val Loss: 0.2739 Acc: 0.8838\n",
            "\n",
            "Training complete in 401m 51s\n",
            "Best val Acc: 0.883763\n"
          ]
        }
      ],
      "source": [
        "model_ft = train_model(model, criterion, optimizer, exp_lr_scheduler, num_epochs=2)"
      ]
    },
    {
      "cell_type": "code",
      "execution_count": null,
      "metadata": {
        "colab": {
          "base_uri": "https://localhost:8080/"
        },
        "id": "_5vlIjF_XRnC",
        "outputId": "2870343e-b710-416d-b884-c479debfd235"
      },
      "outputs": [
        {
          "data": {
            "text/plain": [
              "{'train': <torch.utils.data.dataloader.DataLoader at 0x7f7e7bc00fd0>,\n",
              " 'val': <torch.utils.data.dataloader.DataLoader at 0x7f7e7bc00d90>,\n",
              " 'test': <torch.utils.data.dataloader.DataLoader at 0x7f7e7bc00f10>}"
            ]
          },
          "execution_count": 33,
          "metadata": {},
          "output_type": "execute_result"
        }
      ],
      "source": [
        "dataloaders"
      ]
    },
    {
      "cell_type": "code",
      "source": [
        "torch.save(model.state_dict(), '/content/drive/MyDrive/Project3/sh/1213_epochs2_weights.pth')"
      ],
      "metadata": {
        "id": "xP-uMjCDIAJG"
      },
      "execution_count": 42,
      "outputs": []
    },
    {
      "cell_type": "code",
      "source": [],
      "metadata": {
        "id": "gLLihaegJCYy"
      },
      "execution_count": null,
      "outputs": []
    }
  ],
  "metadata": {
    "accelerator": "GPU",
    "colab": {
      "provenance": []
    },
    "gpuClass": "premium",
    "kernelspec": {
      "display_name": "Python 3",
      "name": "python3"
    },
    "language_info": {
      "name": "python"
    }
  },
  "nbformat": 4,
  "nbformat_minor": 0
}
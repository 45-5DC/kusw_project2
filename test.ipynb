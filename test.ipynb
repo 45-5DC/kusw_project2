{
 "cells": [
  {
   "cell_type": "code",
   "execution_count": 10,
   "metadata": {},
   "outputs": [],
   "source": [
    "from IPython.display import clear_output\n",
    "from checkCSV import checkCSV\n",
    "import time"
   ]
  },
  {
   "cell_type": "code",
   "execution_count": 12,
   "metadata": {},
   "outputs": [
    {
     "name": "stdout",
     "output_type": "stream",
     "text": [
      "9\n"
     ]
    }
   ],
   "source": [
    "for i in range(10):\n",
    "    time.sleep(0.5)\n",
    "    clear_output()\n",
    "    print(i)"
   ]
  },
  {
   "cell_type": "code",
   "execution_count": 1,
   "metadata": {},
   "outputs": [],
   "source": [
    "import pandas as pd"
   ]
  },
  {
   "cell_type": "code",
   "execution_count": 2,
   "metadata": {},
   "outputs": [],
   "source": [
    "test = pd.read_csv(\"/Users/jm/Desktop/3project/imageCSV/test_truncated.csv\")"
   ]
  },
  {
   "cell_type": "code",
   "execution_count": 3,
   "metadata": {},
   "outputs": [
    {
     "data": {
      "text/html": [
       "<div>\n",
       "<style scoped>\n",
       "    .dataframe tbody tr th:only-of-type {\n",
       "        vertical-align: middle;\n",
       "    }\n",
       "\n",
       "    .dataframe tbody tr th {\n",
       "        vertical-align: top;\n",
       "    }\n",
       "\n",
       "    .dataframe thead th {\n",
       "        text-align: right;\n",
       "    }\n",
       "</style>\n",
       "<table border=\"1\" class=\"dataframe\">\n",
       "  <thead>\n",
       "    <tr style=\"text-align: right;\">\n",
       "      <th></th>\n",
       "      <th>Unnamed: 0</th>\n",
       "      <th>filepath</th>\n",
       "      <th>label</th>\n",
       "      <th>tag</th>\n",
       "    </tr>\n",
       "  </thead>\n",
       "  <tbody>\n",
       "    <tr>\n",
       "      <th>0</th>\n",
       "      <td>5730</td>\n",
       "      <td>/content/drive/MyDrive/data/ffhq/real/29268.png</td>\n",
       "      <td>0</td>\n",
       "      <td>FFHQ</td>\n",
       "    </tr>\n",
       "    <tr>\n",
       "      <th>1</th>\n",
       "      <td>26905</td>\n",
       "      <td>/content/drive/MyDrive/data/ffhq/real/08230.png</td>\n",
       "      <td>0</td>\n",
       "      <td>FFHQ</td>\n",
       "    </tr>\n",
       "    <tr>\n",
       "      <th>2</th>\n",
       "      <td>8332</td>\n",
       "      <td>/content/drive/MyDrive/dataset/LFW/LFW_3305.jpg</td>\n",
       "      <td>0</td>\n",
       "      <td>LFW</td>\n",
       "    </tr>\n",
       "    <tr>\n",
       "      <th>3</th>\n",
       "      <td>5357</td>\n",
       "      <td>/content/drive/MyDrive/data/ffhq/real/29644.png</td>\n",
       "      <td>0</td>\n",
       "      <td>FFHQ</td>\n",
       "    </tr>\n",
       "    <tr>\n",
       "      <th>4</th>\n",
       "      <td>14037</td>\n",
       "      <td>/content/drive/MyDrive/dataset/CelebA/CelebA1/...</td>\n",
       "      <td>0</td>\n",
       "      <td>CelebA</td>\n",
       "    </tr>\n",
       "    <tr>\n",
       "      <th>...</th>\n",
       "      <td>...</td>\n",
       "      <td>...</td>\n",
       "      <td>...</td>\n",
       "      <td>...</td>\n",
       "    </tr>\n",
       "    <tr>\n",
       "      <th>26395</th>\n",
       "      <td>3738</td>\n",
       "      <td>/content/drive/MyDrive/dataset/styleGAN1/03756...</td>\n",
       "      <td>1</td>\n",
       "      <td>styleGAN1</td>\n",
       "    </tr>\n",
       "    <tr>\n",
       "      <th>26396</th>\n",
       "      <td>9038</td>\n",
       "      <td>/content/drive/MyDrive/dataset/LFW/LFW_2761.jpg</td>\n",
       "      <td>0</td>\n",
       "      <td>LFW</td>\n",
       "    </tr>\n",
       "    <tr>\n",
       "      <th>26397</th>\n",
       "      <td>16384</td>\n",
       "      <td>/content/drive/MyDrive/dataset/styleGANtwo/003...</td>\n",
       "      <td>1</td>\n",
       "      <td>styleGAN2</td>\n",
       "    </tr>\n",
       "    <tr>\n",
       "      <th>26398</th>\n",
       "      <td>4889</td>\n",
       "      <td>/content/drive/MyDrive/dataset/styleGANtwo/045...</td>\n",
       "      <td>1</td>\n",
       "      <td>styleGAN2</td>\n",
       "    </tr>\n",
       "    <tr>\n",
       "      <th>26399</th>\n",
       "      <td>1172</td>\n",
       "      <td>/content/drive/MyDrive/dataset/styleGAN1/03395...</td>\n",
       "      <td>1</td>\n",
       "      <td>styleGAN1</td>\n",
       "    </tr>\n",
       "  </tbody>\n",
       "</table>\n",
       "<p>26400 rows × 4 columns</p>\n",
       "</div>"
      ],
      "text/plain": [
       "       Unnamed: 0                                           filepath  label  \\\n",
       "0            5730    /content/drive/MyDrive/data/ffhq/real/29268.png      0   \n",
       "1           26905    /content/drive/MyDrive/data/ffhq/real/08230.png      0   \n",
       "2            8332    /content/drive/MyDrive/dataset/LFW/LFW_3305.jpg      0   \n",
       "3            5357    /content/drive/MyDrive/data/ffhq/real/29644.png      0   \n",
       "4           14037  /content/drive/MyDrive/dataset/CelebA/CelebA1/...      0   \n",
       "...           ...                                                ...    ...   \n",
       "26395        3738  /content/drive/MyDrive/dataset/styleGAN1/03756...      1   \n",
       "26396        9038    /content/drive/MyDrive/dataset/LFW/LFW_2761.jpg      0   \n",
       "26397       16384  /content/drive/MyDrive/dataset/styleGANtwo/003...      1   \n",
       "26398        4889  /content/drive/MyDrive/dataset/styleGANtwo/045...      1   \n",
       "26399        1172  /content/drive/MyDrive/dataset/styleGAN1/03395...      1   \n",
       "\n",
       "             tag  \n",
       "0           FFHQ  \n",
       "1           FFHQ  \n",
       "2            LFW  \n",
       "3           FFHQ  \n",
       "4         CelebA  \n",
       "...          ...  \n",
       "26395  styleGAN1  \n",
       "26396        LFW  \n",
       "26397  styleGAN2  \n",
       "26398  styleGAN2  \n",
       "26399  styleGAN1  \n",
       "\n",
       "[26400 rows x 4 columns]"
      ]
     },
     "execution_count": 3,
     "metadata": {},
     "output_type": "execute_result"
    }
   ],
   "source": [
    "test"
   ]
  },
  {
   "cell_type": "code",
   "execution_count": 4,
   "metadata": {},
   "outputs": [
    {
     "data": {
      "text/plain": [
       "32"
      ]
     },
     "execution_count": 4,
     "metadata": {},
     "output_type": "execute_result"
    }
   ],
   "source": [
    "26400 % 128"
   ]
  }
 ],
 "metadata": {
  "kernelspec": {
   "display_name": "mytorch",
   "language": "python",
   "name": "python3"
  },
  "language_info": {
   "codemirror_mode": {
    "name": "ipython",
    "version": 3
   },
   "file_extension": ".py",
   "mimetype": "text/x-python",
   "name": "python",
   "nbconvert_exporter": "python",
   "pygments_lexer": "ipython3",
   "version": "3.9.12"
  },
  "orig_nbformat": 4,
  "vscode": {
   "interpreter": {
    "hash": "083876b6ffcd5ef2289a49d86e086cc585e7b9dbeff261a095e501d87f708cfd"
   }
  }
 },
 "nbformat": 4,
 "nbformat_minor": 2
}
